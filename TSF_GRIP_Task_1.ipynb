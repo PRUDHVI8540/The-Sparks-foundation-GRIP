{
  "nbformat": 4,
  "nbformat_minor": 0,
  "metadata": {
    "colab": {
      "name": "TSF_GRIP Task-1.ipynb",
      "provenance": [],
      "collapsed_sections": []
    },
    "kernelspec": {
      "name": "python3",
      "display_name": "Python 3"
    },
    "language_info": {
      "name": "python"
    }
  },
  "cells": [
    {
      "cell_type": "markdown",
      "metadata": {
        "id": "Bcowzyo98vRS"
      },
      "source": [
        "**THE SPARKS FOUNDATION #GRIPJUNE21**"
      ]
    },
    {
      "cell_type": "markdown",
      "metadata": {
        "id": "Fo8-CQWU9R2T"
      },
      "source": [
        "**Author - KROSURU PRUDHVI RAJ, DATA SCIENCE & BUSINESS ANALYTICS INTERN**"
      ]
    },
    {
      "cell_type": "markdown",
      "metadata": {
        "id": "c7bO2LJR9aLl"
      },
      "source": [
        "**TASK-1 Prediction using Supervised ML**"
      ]
    },
    {
      "cell_type": "markdown",
      "metadata": {
        "id": "oq0d8_m2-LsI"
      },
      "source": [
        "Perform exploratory Data Analysis on dataset 'Student' To Predict the percentage of marks of the students based on the number of hours they studied."
      ]
    },
    {
      "cell_type": "markdown",
      "metadata": {
        "id": "J2oBhmpy-Umy"
      },
      "source": [
        "Dataset Sample: http://bit.ly/w-data"
      ]
    },
    {
      "cell_type": "code",
      "metadata": {
        "id": "yOXo789c-WTn"
      },
      "source": [
        "# importing the required libraries\n",
        "import pandas as pd\n",
        "import numpy as np\n",
        "import matplotlib.pyplot as plt \n",
        "import seaborn as sns\n",
        "from sklearn.model_selection import train_test_split\n",
        "from sklearn.linear_model import LinearRegression\n",
        "from sklearn.metrics import mean_absolute_error"
      ],
      "execution_count": 1,
      "outputs": []
    },
    {
      "cell_type": "code",
      "metadata": {
        "colab": {
          "base_uri": "https://localhost:8080/",
          "height": 357
        },
        "id": "OwUZ-U8K-5WR",
        "outputId": "99f4165d-bc7a-41c2-a411-4339c2a8abfc"
      },
      "source": [
        "# Reading the Data \n",
        "data = pd.read_csv('http://bit.ly/w-data')\n",
        "data.head(10)"
      ],
      "execution_count": 2,
      "outputs": [
        {
          "output_type": "execute_result",
          "data": {
            "text/html": [
              "<div>\n",
              "<style scoped>\n",
              "    .dataframe tbody tr th:only-of-type {\n",
              "        vertical-align: middle;\n",
              "    }\n",
              "\n",
              "    .dataframe tbody tr th {\n",
              "        vertical-align: top;\n",
              "    }\n",
              "\n",
              "    .dataframe thead th {\n",
              "        text-align: right;\n",
              "    }\n",
              "</style>\n",
              "<table border=\"1\" class=\"dataframe\">\n",
              "  <thead>\n",
              "    <tr style=\"text-align: right;\">\n",
              "      <th></th>\n",
              "      <th>Hours</th>\n",
              "      <th>Scores</th>\n",
              "    </tr>\n",
              "  </thead>\n",
              "  <tbody>\n",
              "    <tr>\n",
              "      <th>0</th>\n",
              "      <td>2.5</td>\n",
              "      <td>21</td>\n",
              "    </tr>\n",
              "    <tr>\n",
              "      <th>1</th>\n",
              "      <td>5.1</td>\n",
              "      <td>47</td>\n",
              "    </tr>\n",
              "    <tr>\n",
              "      <th>2</th>\n",
              "      <td>3.2</td>\n",
              "      <td>27</td>\n",
              "    </tr>\n",
              "    <tr>\n",
              "      <th>3</th>\n",
              "      <td>8.5</td>\n",
              "      <td>75</td>\n",
              "    </tr>\n",
              "    <tr>\n",
              "      <th>4</th>\n",
              "      <td>3.5</td>\n",
              "      <td>30</td>\n",
              "    </tr>\n",
              "    <tr>\n",
              "      <th>5</th>\n",
              "      <td>1.5</td>\n",
              "      <td>20</td>\n",
              "    </tr>\n",
              "    <tr>\n",
              "      <th>6</th>\n",
              "      <td>9.2</td>\n",
              "      <td>88</td>\n",
              "    </tr>\n",
              "    <tr>\n",
              "      <th>7</th>\n",
              "      <td>5.5</td>\n",
              "      <td>60</td>\n",
              "    </tr>\n",
              "    <tr>\n",
              "      <th>8</th>\n",
              "      <td>8.3</td>\n",
              "      <td>81</td>\n",
              "    </tr>\n",
              "    <tr>\n",
              "      <th>9</th>\n",
              "      <td>2.7</td>\n",
              "      <td>25</td>\n",
              "    </tr>\n",
              "  </tbody>\n",
              "</table>\n",
              "</div>"
            ],
            "text/plain": [
              "   Hours  Scores\n",
              "0    2.5      21\n",
              "1    5.1      47\n",
              "2    3.2      27\n",
              "3    8.5      75\n",
              "4    3.5      30\n",
              "5    1.5      20\n",
              "6    9.2      88\n",
              "7    5.5      60\n",
              "8    8.3      81\n",
              "9    2.7      25"
            ]
          },
          "metadata": {
            "tags": []
          },
          "execution_count": 2
        }
      ]
    },
    {
      "cell_type": "code",
      "metadata": {
        "colab": {
          "base_uri": "https://localhost:8080/"
        },
        "id": "3Xjim_0l_KzX",
        "outputId": "0892b40a-8d81-4b9e-909f-aed6684cf1b7"
      },
      "source": [
        "# Check if there any null value in the Dataset\n",
        "data.isnull == True"
      ],
      "execution_count": 3,
      "outputs": [
        {
          "output_type": "execute_result",
          "data": {
            "text/plain": [
              "False"
            ]
          },
          "metadata": {
            "tags": []
          },
          "execution_count": 3
        }
      ]
    },
    {
      "cell_type": "markdown",
      "metadata": {
        "id": "iHyC8Scr_ZBM"
      },
      "source": [
        "**There is no null value in the Dataset so, we can now visualize our Data.**"
      ]
    },
    {
      "cell_type": "code",
      "metadata": {
        "colab": {
          "base_uri": "https://localhost:8080/",
          "height": 303
        },
        "id": "MtcRzec1_xqq",
        "outputId": "574603a7-bf8b-44d9-9b5b-6f14a6f2219b"
      },
      "source": [
        "sns.set_style('darkgrid')\n",
        "sns.scatterplot(y= data['Scores'], x= data['Hours'])\n",
        "plt.title('Marks Vs Study Hours',size=20)\n",
        "plt.ylabel('Marks Percentage', size=12)\n",
        "plt.xlabel('Hours Studied', size=12)\n",
        "plt.show()"
      ],
      "execution_count": 4,
      "outputs": [
        {
          "output_type": "display_data",
          "data": {
            "image/png": "[encoded data removed]",
            "text/plain": [
              "<Figure size 432x288 with 1 Axes>"
            ]
          },
          "metadata": {
            "tags": []
          }
        }
      ]
    },
    {
      "cell_type": "markdown",
      "metadata": {
        "id": "DkpSrgrc_7jw"
      },
      "source": [
        "**From the above scatter plot there looks to be correlation between the 'Marks Percentage' and 'Hours Studied', Lets plot a regression line to confirm the correlation.**"
      ]
    },
    {
      "cell_type": "code",
      "metadata": {
        "colab": {
          "base_uri": "https://localhost:8080/",
          "height": 354
        },
        "id": "-erlu8Z9__lU",
        "outputId": "2b77e403-92e0-4cd8-9b7f-9cfb2179a022"
      },
      "source": [
        "sns.regplot(x= data['Hours'], y= data['Scores'])\n",
        "plt.title('Regression Plot',size=20)\n",
        "plt.ylabel('Marks Percentage', size=12)\n",
        "plt.xlabel('Hours Studied', size=12)\n",
        "plt.show()\n",
        "print(data.corr())"
      ],
      "execution_count": 5,
      "outputs": [
        {
          "output_type": "display_data",
          "data": {
            "image/png": "[encoded data removed]",
            "text/plain": [
              "<Figure size 432x288 with 1 Axes>"
            ]
          },
          "metadata": {
            "tags": []
          }
        },
        {
          "output_type": "stream",
          "text": [
            "           Hours    Scores\n",
            "Hours   1.000000  0.976191\n",
            "Scores  0.976191  1.000000\n"
          ],
          "name": "stdout"
        }
      ]
    },
    {
      "cell_type": "markdown",
      "metadata": {
        "id": "PS9dD61VAShi"
      },
      "source": [
        "**It is confirmed that the variables are positively correlated.**"
      ]
    },
    {
      "cell_type": "markdown",
      "metadata": {
        "id": "A2e7yyIbAXSl"
      },
      "source": [
        "**Training the Model**"
      ]
    },
    {
      "cell_type": "markdown",
      "metadata": {
        "id": "C0Zsn2ZGAbfA"
      },
      "source": [
        "**1) Splitting the Data**"
      ]
    },
    {
      "cell_type": "code",
      "metadata": {
        "id": "CcpGYZtVAmX4"
      },
      "source": [
        "# Defining X and y from the Data\n",
        "X = data.iloc[:, :-1].values  \n",
        "y = data.iloc[:, 1].values\n",
        "\n",
        "# Spliting the Data in two\n",
        "train_X, val_X, train_y, val_y = train_test_split(X, y, random_state = 0)"
      ],
      "execution_count": 6,
      "outputs": []
    },
    {
      "cell_type": "markdown",
      "metadata": {
        "id": "ZsJKOc9kAsI5"
      },
      "source": [
        "**2) Fitting the Data into the model**"
      ]
    },
    {
      "cell_type": "code",
      "metadata": {
        "colab": {
          "base_uri": "https://localhost:8080/"
        },
        "id": "UG1-JT4ZAuWJ",
        "outputId": "199fc35d-d5ed-4d69-f547-93364569c43c"
      },
      "source": [
        "regression = LinearRegression()\n",
        "regression.fit(train_X, train_y)\n",
        "print(\"---------Model Trained---------\")"
      ],
      "execution_count": 7,
      "outputs": [
        {
          "output_type": "stream",
          "text": [
            "---------Model Trained---------\n"
          ],
          "name": "stdout"
        }
      ]
    },
    {
      "cell_type": "markdown",
      "metadata": {
        "id": "S2gquqhBA5Hr"
      },
      "source": [
        "**Predicting the Percentage of Marks**"
      ]
    },
    {
      "cell_type": "code",
      "metadata": {
        "colab": {
          "base_uri": "https://localhost:8080/",
          "height": 265
        },
        "id": "y--cNOLmA7xh",
        "outputId": "c67dea07-a879-4d45-ee16-8e444dfd6006"
      },
      "source": [
        "pred_y = regression.predict(val_X)\n",
        "prediction = pd.DataFrame({'Hours': [i[0] for i in val_X], 'Predicted Marks': [k for k in pred_y]})\n",
        "prediction"
      ],
      "execution_count": 8,
      "outputs": [
        {
          "output_type": "execute_result",
          "data": {
            "text/html": [
              "<div>\n",
              "<style scoped>\n",
              "    .dataframe tbody tr th:only-of-type {\n",
              "        vertical-align: middle;\n",
              "    }\n",
              "\n",
              "    .dataframe tbody tr th {\n",
              "        vertical-align: top;\n",
              "    }\n",
              "\n",
              "    .dataframe thead th {\n",
              "        text-align: right;\n",
              "    }\n",
              "</style>\n",
              "<table border=\"1\" class=\"dataframe\">\n",
              "  <thead>\n",
              "    <tr style=\"text-align: right;\">\n",
              "      <th></th>\n",
              "      <th>Hours</th>\n",
              "      <th>Predicted Marks</th>\n",
              "    </tr>\n",
              "  </thead>\n",
              "  <tbody>\n",
              "    <tr>\n",
              "      <th>0</th>\n",
              "      <td>1.5</td>\n",
              "      <td>16.844722</td>\n",
              "    </tr>\n",
              "    <tr>\n",
              "      <th>1</th>\n",
              "      <td>3.2</td>\n",
              "      <td>33.745575</td>\n",
              "    </tr>\n",
              "    <tr>\n",
              "      <th>2</th>\n",
              "      <td>7.4</td>\n",
              "      <td>75.500624</td>\n",
              "    </tr>\n",
              "    <tr>\n",
              "      <th>3</th>\n",
              "      <td>2.5</td>\n",
              "      <td>26.786400</td>\n",
              "    </tr>\n",
              "    <tr>\n",
              "      <th>4</th>\n",
              "      <td>5.9</td>\n",
              "      <td>60.588106</td>\n",
              "    </tr>\n",
              "    <tr>\n",
              "      <th>5</th>\n",
              "      <td>3.8</td>\n",
              "      <td>39.710582</td>\n",
              "    </tr>\n",
              "    <tr>\n",
              "      <th>6</th>\n",
              "      <td>1.9</td>\n",
              "      <td>20.821393</td>\n",
              "    </tr>\n",
              "  </tbody>\n",
              "</table>\n",
              "</div>"
            ],
            "text/plain": [
              "   Hours  Predicted Marks\n",
              "0    1.5        16.844722\n",
              "1    3.2        33.745575\n",
              "2    7.4        75.500624\n",
              "3    2.5        26.786400\n",
              "4    5.9        60.588106\n",
              "5    3.8        39.710582\n",
              "6    1.9        20.821393"
            ]
          },
          "metadata": {
            "tags": []
          },
          "execution_count": 8
        }
      ]
    },
    {
      "cell_type": "markdown",
      "metadata": {
        "id": "vizz1P5_BD1d"
      },
      "source": [
        "**Comparing the Predicted Marks with the Actual Marks**"
      ]
    },
    {
      "cell_type": "code",
      "metadata": {
        "colab": {
          "base_uri": "https://localhost:8080/",
          "height": 265
        },
        "id": "ZTVf0qYgBGWV",
        "outputId": "e673122d-bafd-45c9-ec62-c6ff3b8d691e"
      },
      "source": [
        "compare_scores = pd.DataFrame({'Actual Marks': val_y, 'Predicted Marks': pred_y})\n",
        "compare_scores"
      ],
      "execution_count": 9,
      "outputs": [
        {
          "output_type": "execute_result",
          "data": {
            "text/html": [
              "<div>\n",
              "<style scoped>\n",
              "    .dataframe tbody tr th:only-of-type {\n",
              "        vertical-align: middle;\n",
              "    }\n",
              "\n",
              "    .dataframe tbody tr th {\n",
              "        vertical-align: top;\n",
              "    }\n",
              "\n",
              "    .dataframe thead th {\n",
              "        text-align: right;\n",
              "    }\n",
              "</style>\n",
              "<table border=\"1\" class=\"dataframe\">\n",
              "  <thead>\n",
              "    <tr style=\"text-align: right;\">\n",
              "      <th></th>\n",
              "      <th>Actual Marks</th>\n",
              "      <th>Predicted Marks</th>\n",
              "    </tr>\n",
              "  </thead>\n",
              "  <tbody>\n",
              "    <tr>\n",
              "      <th>0</th>\n",
              "      <td>20</td>\n",
              "      <td>16.844722</td>\n",
              "    </tr>\n",
              "    <tr>\n",
              "      <th>1</th>\n",
              "      <td>27</td>\n",
              "      <td>33.745575</td>\n",
              "    </tr>\n",
              "    <tr>\n",
              "      <th>2</th>\n",
              "      <td>69</td>\n",
              "      <td>75.500624</td>\n",
              "    </tr>\n",
              "    <tr>\n",
              "      <th>3</th>\n",
              "      <td>30</td>\n",
              "      <td>26.786400</td>\n",
              "    </tr>\n",
              "    <tr>\n",
              "      <th>4</th>\n",
              "      <td>62</td>\n",
              "      <td>60.588106</td>\n",
              "    </tr>\n",
              "    <tr>\n",
              "      <th>5</th>\n",
              "      <td>35</td>\n",
              "      <td>39.710582</td>\n",
              "    </tr>\n",
              "    <tr>\n",
              "      <th>6</th>\n",
              "      <td>24</td>\n",
              "      <td>20.821393</td>\n",
              "    </tr>\n",
              "  </tbody>\n",
              "</table>\n",
              "</div>"
            ],
            "text/plain": [
              "   Actual Marks  Predicted Marks\n",
              "0            20        16.844722\n",
              "1            27        33.745575\n",
              "2            69        75.500624\n",
              "3            30        26.786400\n",
              "4            62        60.588106\n",
              "5            35        39.710582\n",
              "6            24        20.821393"
            ]
          },
          "metadata": {
            "tags": []
          },
          "execution_count": 9
        }
      ]
    },
    {
      "cell_type": "markdown",
      "metadata": {
        "id": "r7oviiBWBNTo"
      },
      "source": [
        "**Visually Comparing the Predicted Marks with the Actual Marks**"
      ]
    },
    {
      "cell_type": "code",
      "metadata": {
        "colab": {
          "base_uri": "https://localhost:8080/",
          "height": 303
        },
        "id": "HO5YhMqsBQEV",
        "outputId": "ab39eb1b-88a0-4ca5-b6c4-138afbce802f"
      },
      "source": [
        "plt.scatter(x=val_X, y=val_y, color='blue')\n",
        "plt.plot(val_X, pred_y, color='Black')\n",
        "plt.title('Actual vs Predicted', size=20)\n",
        "plt.ylabel('Marks Percentage', size=12)\n",
        "plt.xlabel('Hours Studied', size=12)\n",
        "plt.show()"
      ],
      "execution_count": 10,
      "outputs": [
        {
          "output_type": "display_data",
          "data": {
            "image/png": "[encoded data removed]",
            "text/plain": [
              "<Figure size 432x288 with 1 Axes>"
            ]
          },
          "metadata": {
            "tags": []
          }
        }
      ]
    },
    {
      "cell_type": "markdown",
      "metadata": {
        "id": "N2mggVd2BeIO"
      },
      "source": [
        "**Evaluating the Model**"
      ]
    },
    {
      "cell_type": "code",
      "metadata": {
        "colab": {
          "base_uri": "https://localhost:8080/"
        },
        "id": "706TUHA6BmTX",
        "outputId": "6d67ab0f-3bdc-4f1d-d998-e74f9c62be10"
      },
      "source": [
        "# Calculating the accuracy of the model\n",
        "print('Mean absolute error: ',mean_absolute_error(val_y,pred_y))"
      ],
      "execution_count": 11,
      "outputs": [
        {
          "output_type": "stream",
          "text": [
            "Mean absolute error:  4.130879918502482\n"
          ],
          "name": "stdout"
        }
      ]
    },
    {
      "cell_type": "markdown",
      "metadata": {
        "id": "zfDlP7PuBrWz"
      },
      "source": [
        "**Small value of Mean absolute error states that the chances of error or wrong forecasting through the model are very less.**"
      ]
    },
    {
      "cell_type": "markdown",
      "metadata": {
        "id": "XlGigX4xByIa"
      },
      "source": [
        "**What will be the predicted score of a student if he/she studies for 9.25 hrs/ day?**"
      ]
    },
    {
      "cell_type": "code",
      "metadata": {
        "colab": {
          "base_uri": "https://localhost:8080/"
        },
        "id": "GDWaAeY8CA1V",
        "outputId": "f31a94cf-f025-479b-d61a-81519ccfdf67"
      },
      "source": [
        "hours = [9.25]\n",
        "answer = regression.predict([hours])\n",
        "print(\"Score = {}\".format(round(answer[0],3)))"
      ],
      "execution_count": 12,
      "outputs": [
        {
          "output_type": "stream",
          "text": [
            "Score = 93.893\n"
          ],
          "name": "stdout"
        }
      ]
    },
    {
      "cell_type": "markdown",
      "metadata": {
        "id": "x3PS_Jq7CE78"
      },
      "source": [
        "**So finally we come to conclusion that, according to the regression model if a student studies for 9.25 hours a day he/she is likely to score 93.89 marks.**"
      ]
    }
  ]
}